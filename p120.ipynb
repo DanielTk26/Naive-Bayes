{
  "nbformat": 4,
  "nbformat_minor": 0,
  "metadata": {
    "colab": {
      "name": "p120.ipynb",
      "provenance": []
    },
    "kernelspec": {
      "name": "python3",
      "display_name": "Python 3"
    },
    "language_info": {
      "name": "python"
    }
  },
  "cells": [
    {
      "cell_type": "code",
      "execution_count": 1,
      "metadata": {
        "colab": {
          "base_uri": "https://localhost:8080/"
        },
        "id": "yx3v7Q-JcG-V",
        "outputId": "d6459979-f30e-4719-ee3f-63ce85241d85"
      },
      "outputs": [
        {
          "output_type": "stream",
          "name": "stdout",
          "text": [
            "Features:  ['alcohol', 'malic_acid', 'ash', 'alcalinity_of_ash', 'magnesium', 'total_phenols', 'flavanoids', 'nonflavanoid_phenols', 'proanthocyanins', 'color_intensity', 'hue', 'od280/od315_of_diluted_wines', 'proline']\n",
            "Labels:  ['class_0' 'class_1' 'class_2']\n",
            "Accruacy with naive_bayes 0.9074074074074074\n"
          ]
        }
      ],
      "source": [
        "import pandas as pd\n",
        "from sklearn.model_selection import train_test_split\n",
        "from sklearn.preprocessing import StandardScaler\n",
        "from sklearn.metrics import accuracy_score\n",
        "from sklearn.naive_bayes import GaussianNB\n",
        "\n",
        "from sklearn import datasets\n",
        "\n",
        "wine = datasets.load_wine()\n",
        "\n",
        "# print the names of the 13 features\n",
        "print(\"Features: \", wine.feature_names)\n",
        "\n",
        "# print the label type of wine(class_0, class_1, class_2)\n",
        "print(\"Labels: \", wine.target_names)\n",
        "\n",
        "\n",
        "X = wine.data\n",
        "Y = wine.target\n",
        "\n",
        "X_train, X_test, Y_train, Y_test = train_test_split(X, Y, test_size=0.3, random_state=109)\n",
        "\n",
        "naiveBayes = GaussianNB()\n",
        "\n",
        "naiveBayes.fit(X_train,Y_train)\n",
        "\n",
        "y_pred = naiveBayes.predict(X_test)\n",
        "\n",
        "print('Accruacy with naive_bayes', accuracy_score(Y_test,y_pred))\n"
      ]
    }
  ]
}